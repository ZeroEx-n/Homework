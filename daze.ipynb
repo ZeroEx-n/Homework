{
 "cells": [
  {
   "cell_type": "code",
   "execution_count": null,
   "metadata": {},
   "outputs": [],
   "source": [
    "# Создать массив размером 10, со случайными элементами. Посчитать сумму\n",
    "# четных элементов.\n",
    "# • Пользователь вводит число n. Программа должна вывести n членов\n",
    "# последовательности Фибоначчи.\n",
    "# • Создать функцию, которая будет заполнять массив случайными числами и\n",
    "# выводить в ответ: сам список, максимальный и минимальный элементы\n",
    "# этого списка, а также сумму всех значений."
   ]
  },
  {
   "cell_type": "code",
   "execution_count": 2,
   "metadata": {},
   "outputs": [],
   "source": [
    "import random"
   ]
  },
  {
   "cell_type": "code",
   "execution_count": null,
   "metadata": {},
   "outputs": [],
   "source": [
    "a = []\n",
    "for i in range(0,10):\n",
    "    a.append(random.randint(-100,200))\n",
    "    if a[i]%2 == 0:\n",
    "        print(a[i]) \n"
   ]
  },
  {
   "cell_type": "code",
   "execution_count": null,
   "metadata": {},
   "outputs": [],
   "source": [
    "\n",
    "n = int(input(\"Введите число n: \"))\n",
    "fi = [0, 1]\n",
    "if n <= 2:\n",
    "    print(fi[:n])\n",
    "else:\n",
    "    for i in range(2, n):\n",
    "        next_fi = fi[-1] + fi[-2]\n",
    "        fi.append(next_fi)\n",
    "    print(fi[:n])\n"
   ]
  },
  {
   "cell_type": "code",
   "execution_count": null,
   "metadata": {},
   "outputs": [],
   "source": [
    "\n",
    "p = []\n",
    "for w in range(1,15):\n",
    "    p.append(random.randint(-100, 100))\n",
    "print(\"MIN:\",min(p), \"MAX:\",max(p), \"SUM:\",sum(p))"
   ]
  }
 ],
 "metadata": {
  "kernelspec": {
   "display_name": "Python 3",
   "language": "python",
   "name": "python3"
  },
  "language_info": {
   "codemirror_mode": {
    "name": "ipython",
    "version": 3
   },
   "file_extension": ".py",
   "mimetype": "text/x-python",
   "name": "python",
   "nbconvert_exporter": "python",
   "pygments_lexer": "ipython3",
   "version": "3.12.5"
  }
 },
 "nbformat": 4,
 "nbformat_minor": 2
}
