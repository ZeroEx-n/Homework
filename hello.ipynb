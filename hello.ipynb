{
 "cells": [
  {
   "cell_type": "code",
   "execution_count": 5,
   "metadata": {},
   "outputs": [],
   "source": [
    "import random"
   ]
  },
  {
   "cell_type": "code",
   "execution_count": null,
   "metadata": {},
   "outputs": [],
   "source": [
    "s = []\n",
    "for t in range(1,11):\n",
    "    s.append(int(input(f\"Enter {t} numbers:\")))\n",
    "print(s)"
   ]
  },
  {
   "cell_type": "code",
   "execution_count": null,
   "metadata": {},
   "outputs": [],
   "source": [
    "arr = []\n",
    "for i in range(0,10):\n",
    "    arr.append(random.randint(-100,100))\n",
    "print(arr)"
   ]
  },
  {
   "cell_type": "code",
   "execution_count": 4,
   "metadata": {},
   "outputs": [
    {
     "name": "stdout",
     "output_type": "stream",
     "text": [
      "[15, 3, 65, 6, 69849, 1561, 25154, 884688, 1515634, 8484]\n"
     ]
    }
   ],
   "source": [
    "p = []\n",
    "for z in range(1,11):\n",
    "    o = int(input(f\"Enter a {z} number\"))\n",
    "    p.append(o)\n",
    "print(p)"
   ]
  },
  {
   "cell_type": "code",
   "execution_count": 12,
   "metadata": {},
   "outputs": [
    {
     "name": "stdout",
     "output_type": "stream",
     "text": [
      "14 1\n"
     ]
    }
   ],
   "source": [
    "fa = [1,2,3,14,4,5]\n",
    "print(max(fa) , min(fa))"
   ]
  },
  {
   "cell_type": "code",
   "execution_count": 11,
   "metadata": {},
   "outputs": [
    {
     "name": "stdout",
     "output_type": "stream",
     "text": [
      "Четные: [4, 8, 10]\n",
      "Нечет: [15, 3, 5, 9]\n"
     ]
    }
   ],
   "source": [
    "sa = [15,3,5,4,8,9,10]\n",
    "ah = []\n",
    "ga = []\n",
    "for q in sa:\n",
    "    if q%2==0:\n",
    "        ah.append(q)\n",
    "    else:\n",
    "        ga.append(q)\n",
    "print(\"Четные:\",ah)\n",
    "print(\"Нечет:\",ga)"
   ]
  },
  {
   "cell_type": "code",
   "execution_count": null,
   "metadata": {},
   "outputs": [],
   "source": []
  }
 ],
 "metadata": {
  "kernelspec": {
   "display_name": "Python 3.11.9 64-bit (microsoft store)",
   "language": "python",
   "name": "python3"
  },
  "language_info": {
   "codemirror_mode": {
    "name": "ipython",
    "version": 3
   },
   "file_extension": ".py",
   "mimetype": "text/x-python",
   "name": "python",
   "nbconvert_exporter": "python",
   "pygments_lexer": "ipython3",
   "version": "3.11.9"
  },
  "orig_nbformat": 4,
  "vscode": {
   "interpreter": {
    "hash": "409e75add032e2d441b1545fb43da3f685e1be57cdebf97c0df4aeaa458be053"
   }
  }
 },
 "nbformat": 4,
 "nbformat_minor": 2
}
